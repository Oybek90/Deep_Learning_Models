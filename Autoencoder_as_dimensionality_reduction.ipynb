{
 "cells": [
  {
   "cell_type": "code",
   "execution_count": 28,
   "metadata": {},
   "outputs": [],
   "source": [
    "#Importing the Libraries\n",
    "from sklearn.datasets import make_classification\n",
    "from sklearn.datasets import make_classification\n",
    "from sklearn.preprocessing import MinMaxScaler\n",
    "from sklearn.model_selection import train_test_split\n",
    "from tensorflow.keras.layers import LeakyReLU\n",
    "from tensorflow.keras.models import Model\n",
    "from tensorflow.keras.layers import Input\n",
    "from tensorflow.keras.layers import Dense\n",
    "from tensorflow.keras.layers import BatchNormalization\n",
    "from tensorflow.keras.models import load_model"
   ]
  },
  {
   "cell_type": "code",
   "execution_count": 29,
   "metadata": {},
   "outputs": [
    {
     "name": "stdout",
     "output_type": "stream",
     "text": [
      "(1000, 100) (1000,)\n"
     ]
    }
   ],
   "source": [
    "# define dataset\n",
    "X, y = make_classification(n_samples=1000, n_features=100, n_informative=10, n_redundant=90, random_state=1)\n",
    "# summarize the dataset\n",
    "print(X.shape, y.shape)"
   ]
  },
  {
   "cell_type": "code",
   "execution_count": 30,
   "metadata": {},
   "outputs": [
    {
     "name": "stdout",
     "output_type": "stream",
     "text": [
      "(670, 100)\n",
      "(330, 100)\n",
      "(670,)\n",
      "(330,)\n"
     ]
    }
   ],
   "source": [
    "# split into train test sets\n",
    "X_train, X_test, y_train, y_test = train_test_split(X, y, test_size=0.33, random_state=1)\n",
    "# scale data\n",
    "t = MinMaxScaler()\n",
    "t.fit(X_train)\n",
    "X_train = t.transform(X_train)\n",
    "X_test = t.transform(X_test)\n",
    "print(X_train.shape)\n",
    "print(X_test.shape)\n",
    "print(y_train.shape)\n",
    "print(y_test.shape)"
   ]
  },
  {
   "cell_type": "code",
   "execution_count": 31,
   "metadata": {},
   "outputs": [],
   "source": [
    "# AutoEncoder Model Preparation\n",
    "n_inputs = X.shape[1]\n",
    "# define encoder\n",
    "input_data_shape= Input(shape=(n_inputs,))\n",
    "# encoder level 1\n",
    "encoder= Dense(n_inputs*2)(input_data_shape)\n",
    "encoder = BatchNormalization()(encoder)\n",
    "encoder= LeakyReLU()(encoder)\n",
    "# encoder level 2\n",
    "encoder= Dense(n_inputs)(encoder)\n",
    "encoder= BatchNormalization()(encoder)\n",
    "encoder= LeakyReLU()(encoder)\n",
    "# bottleneck\n",
    "n_bottleneck = round(float(n_inputs) / 2.0)\n",
    "bottleneck = Dense(n_bottleneck)(encoder)\n",
    "# define decoder, level 1\n",
    "decoder = Dense(n_inputs)(bottleneck)\n",
    "decoder = BatchNormalization()(decoder)\n",
    "decoder = LeakyReLU()(decoder)\n",
    "# decoder level 2\n",
    "decoder = Dense(n_inputs*2)(decoder)\n",
    "decoder = BatchNormalization()(decoder)\n",
    "decoder = LeakyReLU()(decoder)"
   ]
  },
  {
   "cell_type": "code",
   "execution_count": 32,
   "metadata": {},
   "outputs": [],
   "source": [
    "# output layer\n",
    "output = Dense(n_inputs, activation='linear')(decoder)\n",
    "# define autoencoder model\n",
    "model = Model(inputs=input_data_shape, outputs=output)\n",
    "# compile autoencoder model\n",
    "model.compile(optimizer='adam', loss='mse')"
   ]
  },
  {
   "cell_type": "code",
   "execution_count": 33,
   "metadata": {},
   "outputs": [
    {
     "name": "stdout",
     "output_type": "stream",
     "text": [
      "Model: \"model_3\"\n",
      "_________________________________________________________________\n",
      "Layer (type)                 Output Shape              Param #   \n",
      "=================================================================\n",
      "input_3 (InputLayer)         [(None, 100)]             0         \n",
      "_________________________________________________________________\n",
      "dense_12 (Dense)             (None, 200)               20200     \n",
      "_________________________________________________________________\n",
      "batch_normalization_8 (Batch (None, 200)               800       \n",
      "_________________________________________________________________\n",
      "leaky_re_lu_8 (LeakyReLU)    (None, 200)               0         \n",
      "_________________________________________________________________\n",
      "dense_13 (Dense)             (None, 100)               20100     \n",
      "_________________________________________________________________\n",
      "batch_normalization_9 (Batch (None, 100)               400       \n",
      "_________________________________________________________________\n",
      "leaky_re_lu_9 (LeakyReLU)    (None, 100)               0         \n",
      "_________________________________________________________________\n",
      "dense_14 (Dense)             (None, 50)                5050      \n",
      "_________________________________________________________________\n",
      "dense_15 (Dense)             (None, 100)               5100      \n",
      "_________________________________________________________________\n",
      "batch_normalization_10 (Batc (None, 100)               400       \n",
      "_________________________________________________________________\n",
      "leaky_re_lu_10 (LeakyReLU)   (None, 100)               0         \n",
      "_________________________________________________________________\n",
      "dense_16 (Dense)             (None, 200)               20200     \n",
      "_________________________________________________________________\n",
      "batch_normalization_11 (Batc (None, 200)               800       \n",
      "_________________________________________________________________\n",
      "leaky_re_lu_11 (LeakyReLU)   (None, 200)               0         \n",
      "_________________________________________________________________\n",
      "dense_17 (Dense)             (None, 100)               20100     \n",
      "=================================================================\n",
      "Total params: 93,150\n",
      "Trainable params: 91,950\n",
      "Non-trainable params: 1,200\n",
      "_________________________________________________________________\n"
     ]
    }
   ],
   "source": [
    "model.summary()"
   ]
  },
  {
   "cell_type": "code",
   "execution_count": 34,
   "metadata": {},
   "outputs": [
    {
     "name": "stdout",
     "output_type": "stream",
     "text": [
      "Train on 670 samples, validate on 330 samples\n",
      "Epoch 1/50\n",
      "670/670 - 2s - loss: 0.2409 - val_loss: 0.1894\n",
      "Epoch 2/50\n",
      "670/670 - 0s - loss: 0.0400 - val_loss: 0.1192\n",
      "Epoch 3/50\n",
      "670/670 - 0s - loss: 0.0235 - val_loss: 0.0640\n",
      "Epoch 4/50\n",
      "670/670 - 0s - loss: 0.0194 - val_loss: 0.0343\n",
      "Epoch 5/50\n",
      "670/670 - 0s - loss: 0.0160 - val_loss: 0.0192\n",
      "Epoch 6/50\n",
      "670/670 - 0s - loss: 0.0141 - val_loss: 0.0136\n",
      "Epoch 7/50\n",
      "670/670 - 0s - loss: 0.0133 - val_loss: 0.0122\n",
      "Epoch 8/50\n",
      "670/670 - 0s - loss: 0.0122 - val_loss: 0.0090\n",
      "Epoch 9/50\n",
      "670/670 - 0s - loss: 0.0116 - val_loss: 0.0075\n",
      "Epoch 10/50\n",
      "670/670 - 0s - loss: 0.0110 - val_loss: 0.0072\n",
      "Epoch 11/50\n",
      "670/670 - 0s - loss: 0.0111 - val_loss: 0.0085\n",
      "Epoch 12/50\n",
      "670/670 - 0s - loss: 0.0107 - val_loss: 0.0056\n",
      "Epoch 13/50\n",
      "670/670 - 0s - loss: 0.0099 - val_loss: 0.0058\n",
      "Epoch 14/50\n",
      "670/670 - 0s - loss: 0.0096 - val_loss: 0.0052\n",
      "Epoch 15/50\n",
      "670/670 - 0s - loss: 0.0092 - val_loss: 0.0048\n",
      "Epoch 16/50\n",
      "670/670 - 0s - loss: 0.0083 - val_loss: 0.0050\n",
      "Epoch 17/50\n",
      "670/670 - 0s - loss: 0.0083 - val_loss: 0.0049\n",
      "Epoch 18/50\n",
      "670/670 - 0s - loss: 0.0089 - val_loss: 0.0053\n",
      "Epoch 19/50\n",
      "670/670 - 0s - loss: 0.0080 - val_loss: 0.0041\n",
      "Epoch 20/50\n",
      "670/670 - 0s - loss: 0.0079 - val_loss: 0.0037\n",
      "Epoch 21/50\n",
      "670/670 - 0s - loss: 0.0078 - val_loss: 0.0053\n",
      "Epoch 22/50\n",
      "670/670 - 0s - loss: 0.0090 - val_loss: 0.0050\n",
      "Epoch 23/50\n",
      "670/670 - 0s - loss: 0.0070 - val_loss: 0.0038\n",
      "Epoch 24/50\n",
      "670/670 - 0s - loss: 0.0070 - val_loss: 0.0038\n",
      "Epoch 25/50\n",
      "670/670 - 0s - loss: 0.0072 - val_loss: 0.0038\n",
      "Epoch 26/50\n",
      "670/670 - 0s - loss: 0.0070 - val_loss: 0.0032\n",
      "Epoch 27/50\n",
      "670/670 - 0s - loss: 0.0068 - val_loss: 0.0041\n",
      "Epoch 28/50\n",
      "670/670 - 0s - loss: 0.0066 - val_loss: 0.0040\n",
      "Epoch 29/50\n",
      "670/670 - 0s - loss: 0.0062 - val_loss: 0.0034\n",
      "Epoch 30/50\n",
      "670/670 - 0s - loss: 0.0064 - val_loss: 0.0036\n",
      "Epoch 31/50\n",
      "670/670 - 0s - loss: 0.0063 - val_loss: 0.0034\n",
      "Epoch 32/50\n",
      "670/670 - 0s - loss: 0.0058 - val_loss: 0.0035\n",
      "Epoch 33/50\n",
      "670/670 - 0s - loss: 0.0061 - val_loss: 0.0032\n",
      "Epoch 34/50\n",
      "670/670 - 0s - loss: 0.0062 - val_loss: 0.0041\n",
      "Epoch 35/50\n",
      "670/670 - 0s - loss: 0.0060 - val_loss: 0.0038\n",
      "Epoch 36/50\n",
      "670/670 - 0s - loss: 0.0061 - val_loss: 0.0046\n",
      "Epoch 37/50\n",
      "670/670 - 0s - loss: 0.0062 - val_loss: 0.0033\n",
      "Epoch 38/50\n",
      "670/670 - 0s - loss: 0.0059 - val_loss: 0.0034\n",
      "Epoch 39/50\n",
      "670/670 - 0s - loss: 0.0064 - val_loss: 0.0042\n",
      "Epoch 40/50\n",
      "670/670 - 0s - loss: 0.0064 - val_loss: 0.0039\n",
      "Epoch 41/50\n",
      "670/670 - 0s - loss: 0.0061 - val_loss: 0.0028\n",
      "Epoch 42/50\n",
      "670/670 - 0s - loss: 0.0051 - val_loss: 0.0028\n",
      "Epoch 43/50\n",
      "670/670 - 0s - loss: 0.0054 - val_loss: 0.0038\n",
      "Epoch 44/50\n",
      "670/670 - 0s - loss: 0.0057 - val_loss: 0.0028\n",
      "Epoch 45/50\n",
      "670/670 - 0s - loss: 0.0055 - val_loss: 0.0035\n",
      "Epoch 46/50\n",
      "670/670 - 0s - loss: 0.0057 - val_loss: 0.0026\n",
      "Epoch 47/50\n",
      "670/670 - 0s - loss: 0.0056 - val_loss: 0.0036\n",
      "Epoch 48/50\n",
      "670/670 - 0s - loss: 0.0052 - val_loss: 0.0032\n",
      "Epoch 49/50\n",
      "670/670 - 0s - loss: 0.0052 - val_loss: 0.0033\n",
      "Epoch 50/50\n",
      "670/670 - 0s - loss: 0.0050 - val_loss: 0.0024\n"
     ]
    }
   ],
   "source": [
    "# fit the autoencoder model to reconstruct input\n",
    "history = model.fit(X_train, X_train, epochs=50, batch_size=16, verbose=2, validation_data=(X_test,X_test))"
   ]
  },
  {
   "cell_type": "code",
   "execution_count": 35,
   "metadata": {},
   "outputs": [],
   "source": [
    "# define an encoder model (without the decoder)\n",
    "encoder = Model(inputs=input_data_shape, outputs=bottleneck)\n",
    "# save the encoder to file\n",
    "encoder.save('encoder.h5')"
   ]
  },
  {
   "cell_type": "code",
   "execution_count": 36,
   "metadata": {},
   "outputs": [
    {
     "name": "stdout",
     "output_type": "stream",
     "text": [
      "0.8939393939393939\n"
     ]
    }
   ],
   "source": [
    "#Building a Base Model to compare the performance after compressing the data using Encoder model.\n",
    "\n",
    "from sklearn.linear_model import LogisticRegression\n",
    "from sklearn.metrics import accuracy_score\n",
    "t = MinMaxScaler()\n",
    "t.fit(X_train)\n",
    "X_train = t.transform(X_train)\n",
    "X_test = t.transform(X_test)\n",
    "# define model\n",
    "model = LogisticRegression()\n",
    "# fit model on training set\n",
    "model.fit(X_train, y_train)\n",
    "# make prediction on test set\n",
    "yhat = model.predict(X_test)\n",
    "# calculate accuracy\n",
    "acc = accuracy_score(y_test, yhat)\n",
    "print(acc)"
   ]
  },
  {
   "cell_type": "code",
   "execution_count": 37,
   "metadata": {},
   "outputs": [
    {
     "name": "stdout",
     "output_type": "stream",
     "text": [
      "WARNING:tensorflow:No training configuration found in save file: the model was *not* compiled. Compile it manually.\n",
      "0.9272727272727272\n"
     ]
    }
   ],
   "source": [
    "#Compressing the input data using Encoder Model and fitting it on the Logistic Regression model.\n",
    "# load the model from file\n",
    "encoder = load_model('encoder.h5')\n",
    "\n",
    "# encode the train data\n",
    "X_train_encode = encoder.predict(X_train)\n",
    "# encode the test data\n",
    "X_test_encode = encoder.predict(X_test)\n",
    "# define the model\n",
    "model = LogisticRegression(max_iter=1000)\n",
    "# fit the model on the training set\n",
    "model.fit(X_train_encode, y_train)\n",
    "# make predictions on the test set\n",
    "yhat = model.predict(X_test_encode)\n",
    "# calculate classification accuracy\n",
    "acc = accuracy_score(y_test, yhat)\n",
    "print(acc)"
   ]
  },
  {
   "cell_type": "code",
   "execution_count": null,
   "metadata": {},
   "outputs": [],
   "source": []
  },
  {
   "cell_type": "code",
   "execution_count": null,
   "metadata": {},
   "outputs": [],
   "source": []
  }
 ],
 "metadata": {
  "kernelspec": {
   "display_name": "Python 3",
   "language": "python",
   "name": "python3"
  },
  "language_info": {
   "codemirror_mode": {
    "name": "ipython",
    "version": 3
   },
   "file_extension": ".py",
   "mimetype": "text/x-python",
   "name": "python",
   "nbconvert_exporter": "python",
   "pygments_lexer": "ipython3",
   "version": "3.7.9"
  }
 },
 "nbformat": 4,
 "nbformat_minor": 4
}
