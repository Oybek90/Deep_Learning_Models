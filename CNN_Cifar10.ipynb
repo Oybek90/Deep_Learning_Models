{
 "cells": [
  {
   "cell_type": "markdown",
   "metadata": {},
   "source": [
    "### Import library"
   ]
  },
  {
   "cell_type": "code",
   "execution_count": 8,
   "metadata": {},
   "outputs": [
    {
     "name": "stdout",
     "output_type": "stream",
     "text": [
      "2.1.0\n"
     ]
    }
   ],
   "source": [
    "import tensorflow as tf\n",
    "from tensorflow import keras\n",
    "from tensorflow.keras import layers\n",
    "from tensorflow.keras.datasets import cifar10\n",
    "import matplotlib.pyplot as plt\n",
    "print(tf.__version__)"
   ]
  },
  {
   "cell_type": "markdown",
   "metadata": {},
   "source": [
    "### Loading Cifar-10 dataset"
   ]
  },
  {
   "cell_type": "code",
   "execution_count": 2,
   "metadata": {},
   "outputs": [
    {
     "name": "stdout",
     "output_type": "stream",
     "text": [
      "(50000, 32, 32, 3)\n",
      "(50000, 1)\n"
     ]
    }
   ],
   "source": [
    "### Loading Cifar10 dataset\n",
    "(x_train, y_train), (x_test, y_test) = cifar10.load_data()\n",
    "\n",
    "print(x_train.shape)\n",
    "print(y_train.shape)"
   ]
  },
  {
   "cell_type": "markdown",
   "metadata": {},
   "source": [
    "### Convalutional Neural Network (VGG-16)"
   ]
  },
  {
   "cell_type": "code",
   "execution_count": 13,
   "metadata": {},
   "outputs": [
    {
     "name": "stdout",
     "output_type": "stream",
     "text": [
      "Model: \"model_1\"\n",
      "_________________________________________________________________\n",
      "Layer (type)                 Output Shape              Param #   \n",
      "=================================================================\n",
      "input_2 (InputLayer)         [(None, 32, 32, 3)]       0         \n",
      "_________________________________________________________________\n",
      "conv2d_5 (Conv2D)            (None, 32, 32, 64)        1792      \n",
      "_________________________________________________________________\n",
      "conv2d_6 (Conv2D)            (None, 32, 32, 64)        36928     \n",
      "_________________________________________________________________\n",
      "max_pooling2d_3 (MaxPooling2 (None, 16, 16, 64)        0         \n",
      "_________________________________________________________________\n",
      "conv2d_7 (Conv2D)            (None, 16, 16, 128)       73856     \n",
      "_________________________________________________________________\n",
      "conv2d_8 (Conv2D)            (None, 16, 16, 256)       295168    \n",
      "_________________________________________________________________\n",
      "max_pooling2d_4 (MaxPooling2 (None, 8, 8, 256)         0         \n",
      "_________________________________________________________________\n",
      "conv2d_9 (Conv2D)            (None, 8, 8, 512)         1180160   \n",
      "_________________________________________________________________\n",
      "max_pooling2d_5 (MaxPooling2 (None, 4, 4, 512)         0         \n",
      "_________________________________________________________________\n",
      "flatten_1 (Flatten)          (None, 8192)              0         \n",
      "_________________________________________________________________\n",
      "dense_3 (Dense)              (None, 1024)              8389632   \n",
      "_________________________________________________________________\n",
      "dense_4 (Dense)              (None, 1024)              1049600   \n",
      "_________________________________________________________________\n",
      "dense_5 (Dense)              (None, 10)                10250     \n",
      "=================================================================\n",
      "Total params: 11,037,386\n",
      "Trainable params: 11,037,386\n",
      "Non-trainable params: 0\n",
      "_________________________________________________________________\n"
     ]
    }
   ],
   "source": [
    "inputs = keras.Input(shape=(32,32,3))\n",
    "### first conv layer\n",
    "x = layers.Conv2D(64, 3, activation = 'relu', padding = \"same\")(inputs)\n",
    "x = layers.Conv2D(64, 3, activation = 'relu', padding = \"same\")(x)\n",
    "x = layers.MaxPooling2D(2)(x)\n",
    "### second conv layer\n",
    "x = layers.Conv2D(128, 3, activation = 'relu', padding = \"same\")(x)\n",
    "# x = layers.Conv2D(128, 3, activation = 'relu', padding = \"same\")(x)\n",
    "# x = layers.MaxPooling2D(2)(x)\n",
    "### third conv layer\n",
    "x = layers.Conv2D(256, 3, activation = 'relu', padding = \"same\")(x)\n",
    "# x = layers.Conv2D(256, 3, activation = 'relu', padding = \"same\")(x)\n",
    "# x = layers.Conv2D(256, 3, activation = 'relu', padding = \"same\")(x)\n",
    "x = layers.MaxPooling2D(2)(x)\n",
    "### fourth conv layer\n",
    "x = layers.Conv2D(512, 3, activation = 'relu', padding = \"same\")(x)\n",
    "# x = layers.Conv2D(512, 3, activation = 'relu', padding = \"same\")(x)\n",
    "# x = layers.Conv2D(512, 3, activation = 'relu', padding = \"same\")(x)\n",
    "x = layers.MaxPooling2D(2)(x)\n",
    "### Fully connected layer\n",
    "x = keras.layers.Flatten()(x)\n",
    "x = keras.layers.Dense(1024)(x)\n",
    "x = keras.layers.Dense(1024)(x)\n",
    "# x = keras.layers.Dense(1024)(x)\n",
    "x = keras.layers.Dense(10, activation='softmax')(x)\n",
    "outputs = x\n",
    "\n",
    "model = keras.Model(inputs, outputs)\n",
    "model.summary()"
   ]
  },
  {
   "cell_type": "code",
   "execution_count": 14,
   "metadata": {},
   "outputs": [
    {
     "name": "stdout",
     "output_type": "stream",
     "text": [
      "Train on 50000 samples\n",
      "Epoch 1/50\n",
      "50000/50000 [==============================] - 17s 340us/sample - loss: 3.9810 - accuracy: 0.3412\n",
      "Epoch 2/50\n",
      "50000/50000 [==============================] - 16s 328us/sample - loss: 1.3226 - accuracy: 0.5295\n",
      "Epoch 3/50\n",
      "50000/50000 [==============================] - 16s 328us/sample - loss: 1.1239 - accuracy: 0.6031\n",
      "Epoch 4/50\n",
      "50000/50000 [==============================] - 16s 329us/sample - loss: 0.9955 - accuracy: 0.6528\n",
      "Epoch 5/50\n",
      "50000/50000 [==============================] - 16s 329us/sample - loss: 0.8889 - accuracy: 0.6894\n",
      "Epoch 6/50\n",
      "50000/50000 [==============================] - 17s 331us/sample - loss: 0.8070 - accuracy: 0.7180\n",
      "Epoch 7/50\n",
      "50000/50000 [==============================] - 17s 331us/sample - loss: 0.7445 - accuracy: 0.7408\n",
      "Epoch 8/50\n",
      "50000/50000 [==============================] - 17s 338us/sample - loss: 0.6649 - accuracy: 0.7701\n",
      "Epoch 9/50\n",
      "50000/50000 [==============================] - 17s 332us/sample - loss: 0.6068 - accuracy: 0.7880\n",
      "Epoch 10/50\n",
      "50000/50000 [==============================] - 17s 332us/sample - loss: 0.5526 - accuracy: 0.8069\n",
      "Epoch 11/50\n",
      "50000/50000 [==============================] - 17s 333us/sample - loss: 0.5001 - accuracy: 0.8230\n",
      "Epoch 12/50\n",
      "50000/50000 [==============================] - 17s 332us/sample - loss: 0.4427 - accuracy: 0.8431\n",
      "Epoch 13/50\n",
      "50000/50000 [==============================] - 16s 327us/sample - loss: 0.4063 - accuracy: 0.8560\n",
      "Epoch 14/50\n",
      "50000/50000 [==============================] - 16s 325us/sample - loss: 0.3505 - accuracy: 0.8749\n",
      "Epoch 15/50\n",
      "50000/50000 [==============================] - 17s 333us/sample - loss: 0.3439 - accuracy: 0.8793\n",
      "Epoch 16/50\n",
      "50000/50000 [==============================] - 16s 329us/sample - loss: 0.3214 - accuracy: 0.8863\n",
      "Epoch 17/50\n",
      "50000/50000 [==============================] - 16s 327us/sample - loss: 0.2751 - accuracy: 0.9036\n",
      "Epoch 18/50\n",
      "50000/50000 [==============================] - 16s 325us/sample - loss: 0.2446 - accuracy: 0.9140\n",
      "Epoch 19/50\n",
      "50000/50000 [==============================] - 16s 327us/sample - loss: 0.2210 - accuracy: 0.9225\n",
      "Epoch 20/50\n",
      "50000/50000 [==============================] - 16s 329us/sample - loss: 0.2216 - accuracy: 0.9224\n",
      "Epoch 21/50\n",
      "50000/50000 [==============================] - 17s 332us/sample - loss: 0.1990 - accuracy: 0.9307\n",
      "Epoch 22/50\n",
      "50000/50000 [==============================] - 16s 330us/sample - loss: 0.1917 - accuracy: 0.9329\n",
      "Epoch 23/50\n",
      "50000/50000 [==============================] - 16s 325us/sample - loss: 0.1884 - accuracy: 0.9350\n",
      "Epoch 24/50\n",
      "50000/50000 [==============================] - 16s 329us/sample - loss: 0.1923 - accuracy: 0.9334\n",
      "Epoch 25/50\n",
      "50000/50000 [==============================] - 17s 331us/sample - loss: 0.1787 - accuracy: 0.9380\n",
      "Epoch 26/50\n",
      "50000/50000 [==============================] - 16s 329us/sample - loss: 0.1798 - accuracy: 0.9389\n",
      "Epoch 27/50\n",
      "50000/50000 [==============================] - 16s 327us/sample - loss: 0.1800 - accuracy: 0.9387\n",
      "Epoch 28/50\n",
      "50000/50000 [==============================] - 16s 325us/sample - loss: 0.1543 - accuracy: 0.9481\n",
      "Epoch 29/50\n",
      "50000/50000 [==============================] - 16s 326us/sample - loss: 0.1713 - accuracy: 0.9430\n",
      "Epoch 30/50\n",
      "50000/50000 [==============================] - 16s 326us/sample - loss: 0.1537 - accuracy: 0.9484\n",
      "Epoch 31/50\n",
      "50000/50000 [==============================] - 16s 326us/sample - loss: 0.1630 - accuracy: 0.9465\n",
      "Epoch 32/50\n",
      "50000/50000 [==============================] - 17s 330us/sample - loss: 0.1382 - accuracy: 0.9539\n",
      "Epoch 33/50\n",
      "50000/50000 [==============================] - 16s 328us/sample - loss: 0.1574 - accuracy: 0.9477\n",
      "Epoch 34/50\n",
      "50000/50000 [==============================] - 16s 330us/sample - loss: 0.1258 - accuracy: 0.9583\n",
      "Epoch 35/50\n",
      "50000/50000 [==============================] - 17s 332us/sample - loss: 0.1266 - accuracy: 0.9597\n",
      "Epoch 36/50\n",
      "50000/50000 [==============================] - 17s 334us/sample - loss: 0.1293 - accuracy: 0.9576\n",
      "Epoch 37/50\n",
      "50000/50000 [==============================] - 17s 331us/sample - loss: 0.1239 - accuracy: 0.9597\n",
      "Epoch 38/50\n",
      "50000/50000 [==============================] - 17s 334us/sample - loss: 0.1239 - accuracy: 0.9599\n",
      "Epoch 39/50\n",
      "50000/50000 [==============================] - 17s 341us/sample - loss: 0.1297 - accuracy: 0.9569\n",
      "Epoch 40/50\n",
      "50000/50000 [==============================] - 17s 339us/sample - loss: 0.1159 - accuracy: 0.9619\n",
      "Epoch 41/50\n",
      "50000/50000 [==============================] - 17s 334us/sample - loss: 0.1253 - accuracy: 0.9602\n",
      "Epoch 42/50\n",
      "50000/50000 [==============================] - 17s 332us/sample - loss: 0.1127 - accuracy: 0.9629\n",
      "Epoch 43/50\n",
      "50000/50000 [==============================] - 17s 334us/sample - loss: 0.1170 - accuracy: 0.9622\n",
      "Epoch 44/50\n",
      "50000/50000 [==============================] - 17s 331us/sample - loss: 0.1349 - accuracy: 0.9574\n",
      "Epoch 45/50\n",
      "50000/50000 [==============================] - 16s 330us/sample - loss: 0.0934 - accuracy: 0.9699\n",
      "Epoch 46/50\n",
      "50000/50000 [==============================] - 17s 331us/sample - loss: 0.1205 - accuracy: 0.9625\n",
      "Epoch 47/50\n",
      "50000/50000 [==============================] - 17s 331us/sample - loss: 0.1187 - accuracy: 0.9613\n",
      "Epoch 48/50\n",
      "50000/50000 [==============================] - 17s 334us/sample - loss: 0.1244 - accuracy: 0.9614\n",
      "Epoch 49/50\n",
      "50000/50000 [==============================] - 17s 331us/sample - loss: 0.1035 - accuracy: 0.9684\n",
      "Epoch 50/50\n",
      "50000/50000 [==============================] - 17s 340us/sample - loss: 0.1382 - accuracy: 0.9572\n"
     ]
    }
   ],
   "source": [
    "model.compile(optimizer='adam', loss='sparse_categorical_crossentropy', metrics=['accuracy'])\n",
    "history = model.fit(x_train, y_train, epochs=50, batch_size = 256, )"
   ]
  },
  {
   "cell_type": "code",
   "execution_count": 15,
   "metadata": {},
   "outputs": [
    {
     "name": "stdout",
     "output_type": "stream",
     "text": [
      "10000/10000 - 2s - loss: 1.8020 - accuracy: 0.7067\n",
      "\n",
      "Test accuracy: 70.67000269889832 %\n"
     ]
    }
   ],
   "source": [
    "test_loss, test_acc = model.evaluate(x_test, y_test, verbose=2)\n",
    "print('\\nTest accuracy:', test_acc*100, \"%\")"
   ]
  },
  {
   "cell_type": "code",
   "execution_count": 17,
   "metadata": {},
   "outputs": [
    {
     "data": {
      "image/png": "[encoded data removed]",
      "text/plain": [
       "<Figure size 432x288 with 1 Axes>"
      ]
     },
     "metadata": {
      "needs_background": "light"
     },
     "output_type": "display_data"
    },
    {
     "data": {
      "image/png": "[encoded data removed]",
      "text/plain": [
       "<Figure size 432x288 with 1 Axes>"
      ]
     },
     "metadata": {
      "needs_background": "light"
     },
     "output_type": "display_data"
    }
   ],
   "source": [
    "# \"Loss\"\n",
    "plt.plot(history.history['loss'])\n",
    "# plt.plot(history.history['val_loss'])\n",
    "# plt.title('model loss')\n",
    "plt.ylabel('loss')\n",
    "plt.xlabel('epoch')\n",
    "plt.legend(['train'], loc='upper right')\n",
    "plt.show()\n",
    "\n",
    "#  \"Accuracy\"\n",
    "plt.plot(history.history['accuracy'])\n",
    "# plt.plot(history.history['val_acc'])\n",
    "plt.title('model accuracy')\n",
    "plt.ylabel('accuracy')\n",
    "plt.xlabel('epoch')\n",
    "plt.legend(['train'], loc='lower right')\n",
    "plt.show()"
   ]
  },
  {
   "cell_type": "code",
   "execution_count": null,
   "metadata": {},
   "outputs": [],
   "source": []
  }
 ],
 "metadata": {
  "kernelspec": {
   "display_name": "Python 3",
   "language": "python",
   "name": "python3"
  },
  "language_info": {
   "codemirror_mode": {
    "name": "ipython",
    "version": 3
   },
   "file_extension": ".py",
   "mimetype": "text/x-python",
   "name": "python",
   "nbconvert_exporter": "python",
   "pygments_lexer": "ipython3",
   "version": "3.7.9"
  }
 },
 "nbformat": 4,
 "nbformat_minor": 4
}
