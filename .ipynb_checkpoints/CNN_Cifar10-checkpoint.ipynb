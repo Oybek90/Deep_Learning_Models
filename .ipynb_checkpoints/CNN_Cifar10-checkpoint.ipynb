{
 "cells": [
  {
   "cell_type": "markdown",
   "metadata": {},
   "source": [
    "### Import library"
   ]
  },
  {
   "cell_type": "code",
   "execution_count": 1,
   "metadata": {},
   "outputs": [
    {
     "name": "stdout",
     "output_type": "stream",
     "text": [
      "2.1.0\n"
     ]
    }
   ],
   "source": [
    "import tensorflow as tf\n",
    "from tensorflow import keras\n",
    "from tensorflow.keras import layers\n",
    "from tensorflow.keras.datasets import cifar10\n",
    "import matplotlib.pyplot as plt\n",
    "print(tf.__version__)"
   ]
  },
  {
   "cell_type": "markdown",
   "metadata": {},
   "source": [
    "### Loading Cifar-10 dataset"
   ]
  },
  {
   "cell_type": "code",
   "execution_count": 2,
   "metadata": {},
   "outputs": [
    {
     "name": "stdout",
     "output_type": "stream",
     "text": [
      "(50000, 32, 32, 3)\n",
      "(50000, 1)\n"
     ]
    }
   ],
   "source": [
    "### Loading Cifar10 dataset\n",
    "(x_train, y_train), (x_test, y_test) = cifar10.load_data()\n",
    "\n",
    "print(x_train.shape)\n",
    "print(y_train.shape)"
   ]
  },
  {
   "cell_type": "markdown",
   "metadata": {},
   "source": [
    "### Convalutional Neural Network (VGG-16)"
   ]
  },
  {
   "cell_type": "code",
   "execution_count": 3,
   "metadata": {},
   "outputs": [
    {
     "name": "stdout",
     "output_type": "stream",
     "text": [
      "Model: \"model\"\n",
      "_________________________________________________________________\n",
      "Layer (type)                 Output Shape              Param #   \n",
      "=================================================================\n",
      "input_1 (InputLayer)         [(None, 32, 32, 3)]       0         \n",
      "_________________________________________________________________\n",
      "conv2d (Conv2D)              (None, 32, 32, 64)        1792      \n",
      "_________________________________________________________________\n",
      "conv2d_1 (Conv2D)            (None, 32, 32, 64)        36928     \n",
      "_________________________________________________________________\n",
      "max_pooling2d (MaxPooling2D) (None, 16, 16, 64)        0         \n",
      "_________________________________________________________________\n",
      "conv2d_2 (Conv2D)            (None, 16, 16, 128)       73856     \n",
      "_________________________________________________________________\n",
      "conv2d_3 (Conv2D)            (None, 16, 16, 256)       295168    \n",
      "_________________________________________________________________\n",
      "max_pooling2d_1 (MaxPooling2 (None, 8, 8, 256)         0         \n",
      "_________________________________________________________________\n",
      "conv2d_4 (Conv2D)            (None, 8, 8, 512)         1180160   \n",
      "_________________________________________________________________\n",
      "max_pooling2d_2 (MaxPooling2 (None, 4, 4, 512)         0         \n",
      "_________________________________________________________________\n",
      "flatten (Flatten)            (None, 8192)              0         \n",
      "_________________________________________________________________\n",
      "dense (Dense)                (None, 1024)              8389632   \n",
      "_________________________________________________________________\n",
      "dense_1 (Dense)              (None, 1024)              1049600   \n",
      "_________________________________________________________________\n",
      "dense_2 (Dense)              (None, 10)                10250     \n",
      "=================================================================\n",
      "Total params: 11,037,386\n",
      "Trainable params: 11,037,386\n",
      "Non-trainable params: 0\n",
      "_________________________________________________________________\n"
     ]
    }
   ],
   "source": [
    "inputs = keras.Input(shape=(32,32,3))\n",
    "### first conv layer\n",
    "x = layers.Conv2D(64, 3, activation = 'relu', padding = \"same\")(inputs)\n",
    "x = layers.Conv2D(64, 3, activation = 'relu', padding = \"same\")(x)\n",
    "x = layers.MaxPooling2D(2)(x)\n",
    "### second conv layer\n",
    "x = layers.Conv2D(128, 3, activation = 'relu', padding = \"same\")(x)\n",
    "# x = layers.Conv2D(128, 3, activation = 'relu', padding = \"same\")(x)\n",
    "# x = layers.MaxPooling2D(2)(x)\n",
    "### third conv layer\n",
    "x = layers.Conv2D(256, 3, activation = 'relu', padding = \"same\")(x)\n",
    "# x = layers.Conv2D(256, 3, activation = 'relu', padding = \"same\")(x)\n",
    "# x = layers.Conv2D(256, 3, activation = 'relu', padding = \"same\")(x)\n",
    "x = layers.MaxPooling2D(2)(x)\n",
    "### fourth conv layer\n",
    "x = layers.Conv2D(512, 3, activation = 'relu', padding = \"same\")(x)\n",
    "# x = layers.Conv2D(512, 3, activation = 'relu', padding = \"same\")(x)\n",
    "# x = layers.Conv2D(512, 3, activation = 'relu', padding = \"same\")(x)\n",
    "x = layers.MaxPooling2D(2)(x)\n",
    "### Fully connected layer\n",
    "x = keras.layers.Flatten()(x)\n",
    "x = keras.layers.Dense(1024)(x)\n",
    "x = keras.layers.Dense(1024)(x)\n",
    "# x = keras.layers.Dense(1024)(x)\n",
    "x = keras.layers.Dense(10, activation='softmax')(x)\n",
    "outputs = x\n",
    "\n",
    "model = keras.Model(inputs, outputs)\n",
    "model.summary()"
   ]
  },
  {
   "cell_type": "code",
   "execution_count": 4,
   "metadata": {},
   "outputs": [
    {
     "name": "stdout",
     "output_type": "stream",
     "text": [
      "Train on 50000 samples\n",
      "Epoch 1/50\n",
      "50000/50000 [==============================] - 20s 400us/sample - loss: 5.0557 - accuracy: 0.2833\n",
      "Epoch 2/50\n",
      "50000/50000 [==============================] - 18s 370us/sample - loss: 1.4073 - accuracy: 0.4942\n",
      "Epoch 3/50\n",
      "50000/50000 [==============================] - 18s 353us/sample - loss: 1.2126 - accuracy: 0.5670\n",
      "Epoch 4/50\n",
      "50000/50000 [==============================] - 20s 391us/sample - loss: 1.0539 - accuracy: 0.6245\n",
      "Epoch 5/50\n",
      "50000/50000 [==============================] - 18s 350us/sample - loss: 0.9543 - accuracy: 0.6629\n",
      "Epoch 6/50\n",
      "50000/50000 [==============================] - 17s 349us/sample - loss: 0.8594 - accuracy: 0.6953\n",
      "Epoch 7/50\n",
      "50000/50000 [==============================] - 22s 438us/sample - loss: 0.7939 - accuracy: 0.7214\n",
      "Epoch 8/50\n",
      "50000/50000 [==============================] - 35s 698us/sample - loss: 0.7166 - accuracy: 0.7505\n",
      "Epoch 9/50\n",
      "50000/50000 [==============================] - 17s 343us/sample - loss: 0.6563 - accuracy: 0.7685\n",
      "Epoch 10/50\n",
      "50000/50000 [==============================] - 17s 338us/sample - loss: 0.5923 - accuracy: 0.7887\n",
      "Epoch 11/50\n",
      "50000/50000 [==============================] - 38s 752us/sample - loss: 0.5375 - accuracy: 0.8090\n",
      "Epoch 12/50\n",
      "50000/50000 [==============================] - 26s 521us/sample - loss: 0.4928 - accuracy: 0.8257\n",
      "Epoch 13/50\n",
      "50000/50000 [==============================] - 23s 469us/sample - loss: 0.4300 - accuracy: 0.8478\n",
      "Epoch 14/50\n",
      "50000/50000 [==============================] - 22s 439us/sample - loss: 0.4039 - accuracy: 0.8574\n",
      "Epoch 15/50\n",
      "50000/50000 [==============================] - 18s 353us/sample - loss: 0.3731 - accuracy: 0.8682- l\n",
      "Epoch 16/50\n",
      "50000/50000 [==============================] - 17s 348us/sample - loss: 0.3538 - accuracy: 0.8751\n",
      "Epoch 17/50\n",
      "50000/50000 [==============================] - 17s 338us/sample - loss: 0.3091 - accuracy: 0.8905\n",
      "Epoch 18/50\n",
      "50000/50000 [==============================] - 17s 349us/sample - loss: 0.2800 - accuracy: 0.9000\n",
      "Epoch 19/50\n",
      "50000/50000 [==============================] - 17s 345us/sample - loss: 0.2568 - accuracy: 0.9099\n",
      "Epoch 20/50\n",
      "50000/50000 [==============================] - 18s 354us/sample - loss: 0.2513 - accuracy: 0.9124\n",
      "Epoch 21/50\n",
      "50000/50000 [==============================] - 18s 365us/sample - loss: 0.2197 - accuracy: 0.9224\n",
      "Epoch 22/50\n",
      "50000/50000 [==============================] - 17s 350us/sample - loss: 0.2045 - accuracy: 0.9283\n",
      "Epoch 23/50\n",
      "50000/50000 [==============================] - 18s 354us/sample - loss: 0.1885 - accuracy: 0.9345\n",
      "Epoch 24/50\n",
      "50000/50000 [==============================] - 17s 347us/sample - loss: 0.1960 - accuracy: 0.9324\n",
      "Epoch 25/50\n",
      "50000/50000 [==============================] - 17s 347us/sample - loss: 0.1813 - accuracy: 0.9367\n",
      "Epoch 26/50\n",
      "50000/50000 [==============================] - 17s 347us/sample - loss: 0.1859 - accuracy: 0.9363\n",
      "Epoch 27/50\n",
      "50000/50000 [==============================] - 17s 344us/sample - loss: 0.1686 - accuracy: 0.9419\n",
      "Epoch 28/50\n",
      "50000/50000 [==============================] - 17s 344us/sample - loss: 0.1711 - accuracy: 0.9417\n",
      "Epoch 29/50\n",
      "50000/50000 [==============================] - 17s 348us/sample - loss: 0.1810 - accuracy: 0.9395\n",
      "Epoch 30/50\n",
      "50000/50000 [==============================] - 17s 340us/sample - loss: 0.1686 - accuracy: 0.9433\n",
      "Epoch 31/50\n",
      "50000/50000 [==============================] - 18s 357us/sample - loss: 0.1649 - accuracy: 0.9459\n",
      "Epoch 32/50\n",
      "50000/50000 [==============================] - 17s 341us/sample - loss: 0.1569 - accuracy: 0.9466\n",
      "Epoch 33/50\n",
      "50000/50000 [==============================] - 18s 352us/sample - loss: 0.1402 - accuracy: 0.9533\n",
      "Epoch 34/50\n",
      "50000/50000 [==============================] - 17s 343us/sample - loss: 0.1305 - accuracy: 0.9559\n",
      "Epoch 35/50\n",
      "50000/50000 [==============================] - 17s 348us/sample - loss: 0.1375 - accuracy: 0.9544\n",
      "Epoch 36/50\n",
      "50000/50000 [==============================] - 17s 344us/sample - loss: 0.1232 - accuracy: 0.9593\n",
      "Epoch 37/50\n",
      "50000/50000 [==============================] - 18s 353us/sample - loss: 0.1424 - accuracy: 0.9526\n",
      "Epoch 38/50\n",
      "50000/50000 [==============================] - 18s 357us/sample - loss: 0.1352 - accuracy: 0.9553\n",
      "Epoch 39/50\n",
      "50000/50000 [==============================] - 17s 348us/sample - loss: 0.1406 - accuracy: 0.9535\n",
      "Epoch 40/50\n",
      "50000/50000 [==============================] - 17s 347us/sample - loss: 0.1255 - accuracy: 0.9595\n",
      "Epoch 41/50\n",
      "50000/50000 [==============================] - 17s 340us/sample - loss: 0.1277 - accuracy: 0.9572\n",
      "Epoch 42/50\n",
      "50000/50000 [==============================] - 17s 347us/sample - loss: 0.1034 - accuracy: 0.9662\n",
      "Epoch 43/50\n",
      "50000/50000 [==============================] - 17s 342us/sample - loss: 0.1202 - accuracy: 0.9605\n",
      "Epoch 44/50\n",
      "50000/50000 [==============================] - 17s 347us/sample - loss: 0.1361 - accuracy: 0.9554\n",
      "Epoch 45/50\n",
      "50000/50000 [==============================] - 18s 353us/sample - loss: 0.1213 - accuracy: 0.9606\n",
      "Epoch 46/50\n",
      "50000/50000 [==============================] - 18s 355us/sample - loss: 0.1228 - accuracy: 0.9607- loss: 0.1221 - accuracy: \n",
      "Epoch 47/50\n",
      "50000/50000 [==============================] - 17s 345us/sample - loss: 0.1076 - accuracy: 0.9655\n",
      "Epoch 48/50\n",
      "50000/50000 [==============================] - 17s 345us/sample - loss: 0.1248 - accuracy: 0.9607\n",
      "Epoch 49/50\n",
      "50000/50000 [==============================] - 18s 356us/sample - loss: 0.1101 - accuracy: 0.9642\n",
      "Epoch 50/50\n",
      "50000/50000 [==============================] - 17s 347us/sample - loss: 0.1212 - accuracy: 0.9615\n"
     ]
    }
   ],
   "source": [
    "model.compile(optimizer='adam', loss='sparse_categorical_crossentropy', metrics=['accuracy'])\n",
    "history = model.fit(x_train, y_train, epochs=50, batch_size = 256)"
   ]
  },
  {
   "cell_type": "code",
   "execution_count": 5,
   "metadata": {},
   "outputs": [
    {
     "name": "stdout",
     "output_type": "stream",
     "text": [
      "10000/10000 - 2s - loss: 2.0928 - accuracy: 0.6993\n",
      "\n",
      "Test accuracy: 69.92999911308289 %\n"
     ]
    }
   ],
   "source": [
    "test_loss, test_acc = model.evaluate(x_test, y_test, verbose=2)\n",
    "print('\\nTest accuracy:', test_acc*100, \"%\")"
   ]
  },
  {
   "cell_type": "code",
   "execution_count": 6,
   "metadata": {},
   "outputs": [
    {
     "data": {
      "image/png": "[encoded data removed]",
      "text/plain": [
       "<Figure size 432x288 with 1 Axes>"
      ]
     },
     "metadata": {
      "needs_background": "light"
     },
     "output_type": "display_data"
    },
    {
     "data": {
      "image/png": "[encoded data removed]",
      "text/plain": [
       "<Figure size 432x288 with 1 Axes>"
      ]
     },
     "metadata": {
      "needs_background": "light"
     },
     "output_type": "display_data"
    }
   ],
   "source": [
    "# \"Loss\"\n",
    "plt.plot(history.history['loss'])\n",
    "# plt.plot(history.history['val_loss'])\n",
    "# plt.title('model loss')\n",
    "plt.ylabel('loss')\n",
    "plt.xlabel('epoch')\n",
    "plt.legend(['train'], loc='upper right')\n",
    "plt.show()\n",
    "\n",
    "#  \"Accuracy\"\n",
    "plt.plot(history.history['accuracy'])\n",
    "# plt.plot(history.history['val_acc'])\n",
    "plt.title('model accuracy')\n",
    "plt.ylabel('accuracy')\n",
    "plt.xlabel('epoch')\n",
    "plt.legend(['train'], loc='lower right')\n",
    "plt.show()"
   ]
  },
  {
   "cell_type": "markdown",
   "metadata": {},
   "source": [
    "### Pre-trained model (VGG-16)"
   ]
  },
  {
   "cell_type": "code",
   "execution_count": 7,
   "metadata": {},
   "outputs": [],
   "source": [
    "### Source: https://www.analyticsvidhya.com/blog/2020/08/top-4-pre-trained-models-for-image-classification-with-python-code/\n",
    "\n",
    "import tensorflow as tf\n",
    "from tensorflow import keras\n",
    "from tensorflow.keras import layers\n",
    "from tensorflow.keras.datasets import cifar10\n",
    "import matplotlib.pyplot as plt"
   ]
  },
  {
   "cell_type": "code",
   "execution_count": 8,
   "metadata": {},
   "outputs": [],
   "source": [
    "from tensorflow.keras.applications.vgg16 import VGG16\n",
    "\n",
    "base_model = VGG16(input_shape = (32, 32, 3), # Shape of our images\n",
    "include_top = False, # Leave out the last fully connected layer\n",
    "weights = 'imagenet')"
   ]
  },
  {
   "cell_type": "code",
   "execution_count": 9,
   "metadata": {},
   "outputs": [],
   "source": [
    "for layer in base_model.layers:\n",
    "    layer.trainable = False"
   ]
  },
  {
   "cell_type": "code",
   "execution_count": 10,
   "metadata": {},
   "outputs": [
    {
     "name": "stdout",
     "output_type": "stream",
     "text": [
      "Model: \"model_1\"\n",
      "_________________________________________________________________\n",
      "Layer (type)                 Output Shape              Param #   \n",
      "=================================================================\n",
      "input_2 (InputLayer)         [(None, 32, 32, 3)]       0         \n",
      "_________________________________________________________________\n",
      "block1_conv1 (Conv2D)        (None, 32, 32, 64)        1792      \n",
      "_________________________________________________________________\n",
      "block1_conv2 (Conv2D)        (None, 32, 32, 64)        36928     \n",
      "_________________________________________________________________\n",
      "block1_pool (MaxPooling2D)   (None, 16, 16, 64)        0         \n",
      "_________________________________________________________________\n",
      "block2_conv1 (Conv2D)        (None, 16, 16, 128)       73856     \n",
      "_________________________________________________________________\n",
      "block2_conv2 (Conv2D)        (None, 16, 16, 128)       147584    \n",
      "_________________________________________________________________\n",
      "block2_pool (MaxPooling2D)   (None, 8, 8, 128)         0         \n",
      "_________________________________________________________________\n",
      "block3_conv1 (Conv2D)        (None, 8, 8, 256)         295168    \n",
      "_________________________________________________________________\n",
      "block3_conv2 (Conv2D)        (None, 8, 8, 256)         590080    \n",
      "_________________________________________________________________\n",
      "block3_conv3 (Conv2D)        (None, 8, 8, 256)         590080    \n",
      "_________________________________________________________________\n",
      "block3_pool (MaxPooling2D)   (None, 4, 4, 256)         0         \n",
      "_________________________________________________________________\n",
      "block4_conv1 (Conv2D)        (None, 4, 4, 512)         1180160   \n",
      "_________________________________________________________________\n",
      "block4_conv2 (Conv2D)        (None, 4, 4, 512)         2359808   \n",
      "_________________________________________________________________\n",
      "block4_conv3 (Conv2D)        (None, 4, 4, 512)         2359808   \n",
      "_________________________________________________________________\n",
      "block4_pool (MaxPooling2D)   (None, 2, 2, 512)         0         \n",
      "_________________________________________________________________\n",
      "block5_conv1 (Conv2D)        (None, 2, 2, 512)         2359808   \n",
      "_________________________________________________________________\n",
      "block5_conv2 (Conv2D)        (None, 2, 2, 512)         2359808   \n",
      "_________________________________________________________________\n",
      "block5_conv3 (Conv2D)        (None, 2, 2, 512)         2359808   \n",
      "_________________________________________________________________\n",
      "block5_pool (MaxPooling2D)   (None, 1, 1, 512)         0         \n",
      "_________________________________________________________________\n",
      "flatten_1 (Flatten)          (None, 512)               0         \n",
      "_________________________________________________________________\n",
      "dense_3 (Dense)              (None, 512)               262656    \n",
      "_________________________________________________________________\n",
      "dropout (Dropout)            (None, 512)               0         \n",
      "_________________________________________________________________\n",
      "dense_4 (Dense)              (None, 10)                5130      \n",
      "=================================================================\n",
      "Total params: 14,982,474\n",
      "Trainable params: 267,786\n",
      "Non-trainable params: 14,714,688\n",
      "_________________________________________________________________\n"
     ]
    }
   ],
   "source": [
    "# Flatten the output layer to 1 dimension\n",
    "x = layers.Flatten()(base_model.output)\n",
    "\n",
    "# Add a fully connected layer with 512 hidden units and ReLU activation\n",
    "x = layers.Dense(512, activation='relu')(x)\n",
    "\n",
    "# Add a dropout rate of 0.5\n",
    "x = layers.Dropout(0.5)(x)\n",
    "\n",
    "# Add a final sigmoid layer with 1 node for classification output\n",
    "x = layers.Dense(10, activation='softmax')(x)\n",
    "\n",
    "model = tf.keras.models.Model(base_model.input, x)\n",
    "model.summary()\n",
    "\n",
    "model.compile(optimizer='adam', loss='sparse_categorical_crossentropy', metrics=['accuracy'])"
   ]
  },
  {
   "cell_type": "code",
   "execution_count": 11,
   "metadata": {},
   "outputs": [
    {
     "name": "stdout",
     "output_type": "stream",
     "text": [
      "Train on 50000 samples\n",
      "Epoch 1/50\n",
      "50000/50000 [==============================] - 10s 209us/sample - loss: 4.7753 - accuracy: 0.3879\n",
      "Epoch 2/50\n",
      "50000/50000 [==============================] - 9s 185us/sample - loss: 1.5640 - accuracy: 0.4778\n",
      "Epoch 3/50\n",
      "50000/50000 [==============================] - 9s 176us/sample - loss: 1.3718 - accuracy: 0.5273\n",
      "Epoch 4/50\n",
      "50000/50000 [==============================] - 9s 175us/sample - loss: 1.2570 - accuracy: 0.5637\n",
      "Epoch 5/50\n",
      "50000/50000 [==============================] - 9s 181us/sample - loss: 1.1860 - accuracy: 0.5877\n",
      "Epoch 6/50\n",
      "50000/50000 [==============================] - 9s 181us/sample - loss: 1.1324 - accuracy: 0.6036\n",
      "Epoch 7/50\n",
      "50000/50000 [==============================] - 9s 176us/sample - loss: 1.0946 - accuracy: 0.6131\n",
      "Epoch 8/50\n",
      "50000/50000 [==============================] - 9s 176us/sample - loss: 1.0450 - accuracy: 0.6322\n",
      "Epoch 9/50\n",
      "50000/50000 [==============================] - 9s 186us/sample - loss: 1.0224 - accuracy: 0.6387\n",
      "Epoch 10/50\n",
      "50000/50000 [==============================] - 9s 176us/sample - loss: 0.9917 - accuracy: 0.6491\n",
      "Epoch 11/50\n",
      "50000/50000 [==============================] - 9s 176us/sample - loss: 0.9720 - accuracy: 0.6559\n",
      "Epoch 12/50\n",
      "50000/50000 [==============================] - 9s 181us/sample - loss: 0.9478 - accuracy: 0.6628\n",
      "Epoch 13/50\n",
      "50000/50000 [==============================] - 9s 178us/sample - loss: 0.9253 - accuracy: 0.6720\n",
      "Epoch 14/50\n",
      "50000/50000 [==============================] - 9s 171us/sample - loss: 0.9027 - accuracy: 0.6789\n",
      "Epoch 15/50\n",
      "50000/50000 [==============================] - 9s 171us/sample - loss: 0.8810 - accuracy: 0.6838\n",
      "Epoch 16/50\n",
      "50000/50000 [==============================] - 9s 172us/sample - loss: 0.8768 - accuracy: 0.6871\n",
      "Epoch 17/50\n",
      "50000/50000 [==============================] - 9s 172us/sample - loss: 0.8572 - accuracy: 0.6937\n",
      "Epoch 18/50\n",
      "50000/50000 [==============================] - 9s 172us/sample - loss: 0.8411 - accuracy: 0.7010\n",
      "Epoch 19/50\n",
      "50000/50000 [==============================] - 9s 173us/sample - loss: 0.8267 - accuracy: 0.7048\n",
      "Epoch 20/50\n",
      "50000/50000 [==============================] - 9s 177us/sample - loss: 0.8104 - accuracy: 0.7094\n",
      "Epoch 21/50\n",
      "50000/50000 [==============================] - 9s 182us/sample - loss: 0.7942 - accuracy: 0.7137\n",
      "Epoch 22/50\n",
      "50000/50000 [==============================] - 9s 181us/sample - loss: 0.7756 - accuracy: 0.7202\n",
      "Epoch 23/50\n",
      "50000/50000 [==============================] - 9s 181us/sample - loss: 0.7651 - accuracy: 0.7259\n",
      "Epoch 24/50\n",
      "50000/50000 [==============================] - 9s 172us/sample - loss: 0.7587 - accuracy: 0.7274\n",
      "Epoch 25/50\n",
      "50000/50000 [==============================] - 9s 175us/sample - loss: 0.7407 - accuracy: 0.7329\n",
      "Epoch 26/50\n",
      "50000/50000 [==============================] - 9s 176us/sample - loss: 0.7338 - accuracy: 0.7352\n",
      "Epoch 27/50\n",
      "50000/50000 [==============================] - 9s 176us/sample - loss: 0.7266 - accuracy: 0.7371\n",
      "Epoch 28/50\n",
      "50000/50000 [==============================] - 9s 175us/sample - loss: 0.7081 - accuracy: 0.7454\n",
      "Epoch 29/50\n",
      "50000/50000 [==============================] - 9s 174us/sample - loss: 0.6970 - accuracy: 0.7464\n",
      "Epoch 30/50\n",
      "50000/50000 [==============================] - 9s 174us/sample - loss: 0.6863 - accuracy: 0.7510\n",
      "Epoch 31/50\n",
      "50000/50000 [==============================] - 9s 174us/sample - loss: 0.6802 - accuracy: 0.7529\n",
      "Epoch 32/50\n",
      "50000/50000 [==============================] - 9s 174us/sample - loss: 0.6747 - accuracy: 0.7549\n",
      "Epoch 33/50\n",
      "50000/50000 [==============================] - 8s 170us/sample - loss: 0.6501 - accuracy: 0.7626\n",
      "Epoch 34/50\n",
      "50000/50000 [==============================] - 9s 172us/sample - loss: 0.6507 - accuracy: 0.7622\n",
      "Epoch 35/50\n",
      "50000/50000 [==============================] - 9s 172us/sample - loss: 0.6424 - accuracy: 0.7677\n",
      "Epoch 36/50\n",
      "50000/50000 [==============================] - 9s 172us/sample - loss: 0.6287 - accuracy: 0.7697\n",
      "Epoch 37/50\n",
      "50000/50000 [==============================] - 9s 176us/sample - loss: 0.6326 - accuracy: 0.7689\n",
      "Epoch 38/50\n",
      "50000/50000 [==============================] - 9s 178us/sample - loss: 0.6145 - accuracy: 0.7759\n",
      "Epoch 39/50\n",
      "50000/50000 [==============================] - 9s 174us/sample - loss: 0.6136 - accuracy: 0.7761\n",
      "Epoch 40/50\n",
      "50000/50000 [==============================] - 9s 173us/sample - loss: 0.6107 - accuracy: 0.7761\n",
      "Epoch 41/50\n",
      "50000/50000 [==============================] - 9s 171us/sample - loss: 0.5902 - accuracy: 0.7834\n",
      "Epoch 42/50\n",
      "50000/50000 [==============================] - 9s 170us/sample - loss: 0.5932 - accuracy: 0.7828\n",
      "Epoch 43/50\n",
      "50000/50000 [==============================] - 8s 170us/sample - loss: 0.5831 - accuracy: 0.7848\n",
      "Epoch 44/50\n",
      "50000/50000 [==============================] - 9s 170us/sample - loss: 0.5815 - accuracy: 0.7878\n",
      "Epoch 45/50\n",
      "50000/50000 [==============================] - 9s 170us/sample - loss: 0.5756 - accuracy: 0.7879\n",
      "Epoch 46/50\n",
      "50000/50000 [==============================] - 9s 171us/sample - loss: 0.5720 - accuracy: 0.7882\n",
      "Epoch 47/50\n",
      "50000/50000 [==============================] - 9s 176us/sample - loss: 0.5610 - accuracy: 0.7948 - loss: 0.5598 - accuracy\n",
      "Epoch 48/50\n",
      "50000/50000 [==============================] - 9s 175us/sample - loss: 0.5541 - accuracy: 0.7957\n",
      "Epoch 49/50\n",
      "50000/50000 [==============================] - 9s 173us/sample - loss: 0.5496 - accuracy: 0.7962\n",
      "Epoch 50/50\n",
      "50000/50000 [==============================] - 9s 170us/sample - loss: 0.5418 - accuracy: 0.8008\n"
     ]
    }
   ],
   "source": [
    "# vgghist = model.fit(train_generator, validation_data = validation_generator, steps_per_epoch = 100, epochs = 10)\n",
    "vgghist = model.fit(x_train, y_train, epochs=50, batch_size = 256, )"
   ]
  },
  {
   "cell_type": "code",
   "execution_count": 12,
   "metadata": {},
   "outputs": [
    {
     "name": "stdout",
     "output_type": "stream",
     "text": [
      "10000/10000 - 4s - loss: 1.6855 - accuracy: 0.6206\n",
      "\n",
      "Test accuracy: 62.059998512268066 %\n"
     ]
    }
   ],
   "source": [
    "test_loss, test_acc = model.evaluate(x_test, y_test, verbose=2)\n",
    "print('\\nTest accuracy:', test_acc*100, \"%\")"
   ]
  },
  {
   "cell_type": "code",
   "execution_count": 13,
   "metadata": {},
   "outputs": [
    {
     "data": {
      "image/png": "[encoded data removed]",
      "text/plain": [
       "<Figure size 432x288 with 1 Axes>"
      ]
     },
     "metadata": {
      "needs_background": "light"
     },
     "output_type": "display_data"
    },
    {
     "data": {
      "image/png": "[encoded data removed]",
      "text/plain": [
       "<Figure size 432x288 with 1 Axes>"
      ]
     },
     "metadata": {
      "needs_background": "light"
     },
     "output_type": "display_data"
    }
   ],
   "source": [
    "# \"Loss\"\n",
    "plt.plot(vgghist.history['loss'])\n",
    "# plt.plot(history.history['val_loss'])\n",
    "# plt.title('model loss')\n",
    "plt.ylabel('loss')\n",
    "plt.xlabel('epoch')\n",
    "plt.legend(['train'], loc='upper right')\n",
    "plt.show()\n",
    "\n",
    "#  \"Accuracy\"\n",
    "plt.plot(vgghist.history['accuracy'])\n",
    "# plt.plot(history.history['val_acc'])\n",
    "plt.title('model accuracy')\n",
    "plt.ylabel('accuracy')\n",
    "plt.xlabel('epoch')\n",
    "plt.legend(['train'], loc='lower right')\n",
    "plt.show()"
   ]
  }
 ],
 "metadata": {
  "kernelspec": {
   "display_name": "Python 3",
   "language": "python",
   "name": "python3"
  },
  "language_info": {
   "codemirror_mode": {
    "name": "ipython",
    "version": 3
   },
   "file_extension": ".py",
   "mimetype": "text/x-python",
   "name": "python",
   "nbconvert_exporter": "python",
   "pygments_lexer": "ipython3",
   "version": "3.7.9"
  }
 },
 "nbformat": 4,
 "nbformat_minor": 4
}
